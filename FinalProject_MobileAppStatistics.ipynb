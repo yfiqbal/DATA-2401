{
 "cells": [
  {
   "cell_type": "markdown",
   "metadata": {},
   "source": [
    "# FINAL PROJECT: Mobile App Statistics#\n",
    "## Authors: Ibrahim Islam and Yousha Iqbal\n",
    "### Date: 12/09/2019"
   ]
  },
  {
   "cell_type": "markdown",
   "metadata": {},
   "source": [
    "**Introduction:**\n",
    "- Our aim for this project is to analyze a dataset from the Apple iOS app store to find mobile apps that are the most popular among Apple users. Our primary goal was to discover and understand which types of apps were the highest rated from the categories contained in the dataset and we were also interested in knowing which apps would be the most profitable. \n",
    "\n",
    "- We've addressed this problem by exploring and analyzing the dataset to discover which apps were the highest rated among users and from which categories to get a sense of which types of apps are the most attractive among users. The methods that we've used to approach our problem is by filtering our dataset by the highest rating totals and arranging the apps in descending order and also \n",
    "\n"
   ]
  },
  {
   "cell_type": "markdown",
   "metadata": {},
   "source": [
    "### Reading in the data:"
   ]
  },
  {
   "cell_type": "code",
   "execution_count": 24,
   "metadata": {},
   "outputs": [
    {
     "name": "stdout",
     "output_type": "stream",
     "text": [
      "Observations: 7,197\n",
      "Variables: 17\n",
      "$ X                <int> 1, 2, 3, 4, 5, 6, 7, 8, 9, 10, 11, 12, 13, 14, 15,...\n",
      "$ id               <int> 281656475, 281796108, 281940292, 282614216, 282935...\n",
      "$ track_name       <fct> \"PAC-MAN Premium\", \"Evernote - stay organized\", \"W...\n",
      "$ size_bytes       <dbl> 100788224, 158578688, 100524032, 128512000, 927744...\n",
      "$ currency         <fct> USD, USD, USD, USD, USD, USD, USD, USD, USD, USD, ...\n",
      "$ price            <dbl> 3.99, 0.00, 0.00, 0.00, 0.00, 0.99, 0.00, 0.00, 9....\n",
      "$ rating_count_tot <int> 21292, 161065, 188583, 262241, 985920, 8253, 11948...\n",
      "$ rating_count_ver <int> 26, 26, 2822, 649, 5320, 5516, 879, 3594, 4, 40, 4...\n",
      "$ user_rating      <dbl> 4.0, 4.0, 3.5, 4.0, 4.5, 4.0, 4.0, 4.0, 4.5, 4.0, ...\n",
      "$ user_rating_ver  <dbl> 4.5, 3.5, 4.5, 4.5, 5.0, 4.0, 4.5, 4.5, 5.0, 4.0, ...\n",
      "$ ver              <fct> 6.3.5, 8.2.2, 5.0.0, 5.10.0, 7.5.1, 1.8, 6.12.0, 8...\n",
      "$ cont_rating      <fct> 4+, 4+, 4+, 12+, 4+, 4+, 4+, 12+, 4+, 4+, 4+, 4+, ...\n",
      "$ prime_genre      <fct> Games, Productivity, Weather, Shopping, Reference,...\n",
      "$ sup_devices.num  <int> 38, 37, 37, 37, 37, 47, 37, 37, 37, 38, 38, 37, 37...\n",
      "$ ipadSc_urls.num  <int> 5, 5, 5, 5, 5, 5, 0, 4, 5, 0, 4, 0, 4, 0, 5, 1, 1,...\n",
      "$ lang.num         <int> 10, 23, 3, 9, 45, 1, 19, 1, 1, 10, 11, 6, 33, 2, 2...\n",
      "$ vpp_lic          <int> 1, 1, 1, 1, 1, 1, 1, 1, 1, 1, 1, 1, 1, 1, 1, 1, 1,...\n"
     ]
    }
   ],
   "source": [
    "# Load the dplyr and tidyverse libraries:\n",
    "library('dplyr')\n",
    "library('tidyverse')\n",
    "\n",
    "# Read in the data using the read.csv function:\n",
    "appData <- read.csv('AppleStore.csv')\n",
    "glimpse(appData)"
   ]
  },
  {
   "cell_type": "code",
   "execution_count": 17,
   "metadata": {},
   "outputs": [],
   "source": [
    "# DataSet containing only free mobile apps:\n",
    "free_apps <- appData %>% filter(price == 0.00) \n",
    "\n",
    "# DataSet containing only non-free apps:\n",
    "non_free_apps <- appData %>% filter(price != 0.00)"
   ]
  },
  {
   "cell_type": "markdown",
   "metadata": {},
   "source": [
    "### Apps with the highest user ratings:"
   ]
  },
  {
   "cell_type": "code",
   "execution_count": 15,
   "metadata": {},
   "outputs": [
    {
     "data": {
      "text/html": [
       "<table>\n",
       "<thead><tr><th scope=col>track_name</th><th scope=col>user_rating</th></tr></thead>\n",
       "<tbody>\n",
       "\t<tr><td>Flashlight â“„                                  </td><td>5                                               </td></tr>\n",
       "\t<tr><td>Zappos: shop shoes &amp; clothes, fast free shipping</td><td>5                                                   </td></tr>\n",
       "\t<tr><td>The Guardian                                    </td><td>5                                               </td></tr>\n",
       "\t<tr><td>Meitu                                           </td><td>5                                               </td></tr>\n",
       "\t<tr><td>Bitauto Autoprice                               </td><td>5                                               </td></tr>\n",
       "\t<tr><td>Domino's Pizza USA                              </td><td>5                                               </td></tr>\n",
       "</tbody>\n",
       "</table>\n"
      ],
      "text/latex": [
       "\\begin{tabular}{r|ll}\n",
       " track\\_name & user\\_rating\\\\\n",
       "\\hline\n",
       "\t Flashlight â“„                                   & 5                                               \\\\\n",
       "\t Zappos: shop shoes \\& clothes, fast free shipping & 5                                                 \\\\\n",
       "\t The Guardian                                     & 5                                               \\\\\n",
       "\t Meitu                                            & 5                                               \\\\\n",
       "\t Bitauto Autoprice                                & 5                                               \\\\\n",
       "\t Domino's Pizza USA                               & 5                                               \\\\\n",
       "\\end{tabular}\n"
      ],
      "text/markdown": [
       "\n",
       "| track_name | user_rating |\n",
       "|---|---|\n",
       "| Flashlight â“„                                   | 5                                                |\n",
       "| Zappos: shop shoes & clothes, fast free shipping | 5                                                |\n",
       "| The Guardian                                     | 5                                                |\n",
       "| Meitu                                            | 5                                                |\n",
       "| Bitauto Autoprice                                | 5                                                |\n",
       "| Domino's Pizza USA                               | 5                                                |\n",
       "\n"
      ],
      "text/plain": [
       "  track_name                                       user_rating\n",
       "1 Flashlight â“„                                   5          \n",
       "2 Zappos: shop shoes & clothes, fast free shipping 5          \n",
       "3 The Guardian                                     5          \n",
       "4 Meitu                                            5          \n",
       "5 Bitauto Autoprice                                5          \n",
       "6 Domino's Pizza USA                               5          "
      ]
     },
     "metadata": {},
     "output_type": "display_data"
    }
   ],
   "source": [
    "# free apps with the highest user ratings:\n",
    "free_apps  %>% filter(user_rating >= 4.0)  %>%  select(track_name, user_rating)  %>% arrange(desc(user_rating))  %>% head"
   ]
  },
  {
   "cell_type": "markdown",
   "metadata": {},
   "source": [
    "###  The top ten apps with the highest rating count totals with respect to user rating greater than or equal to 4.0:"
   ]
  },
  {
   "cell_type": "code",
   "execution_count": 5,
   "metadata": {},
   "outputs": [
    {
     "data": {
      "text/html": [
       "<table>\n",
       "<thead><tr><th scope=col>track_name</th><th scope=col>rating_count_tot</th><th scope=col>user_rating</th></tr></thead>\n",
       "<tbody>\n",
       "\t<tr><td>Instagram              </td><td>2161558                </td><td>4.5                    </td></tr>\n",
       "\t<tr><td>Clash of Clans         </td><td>2130805                </td><td>4.5                    </td></tr>\n",
       "\t<tr><td>Temple Run             </td><td>1724546                </td><td>4.5                    </td></tr>\n",
       "\t<tr><td>Pandora - Music &amp; Radio</td><td>1126879                    </td><td>4.0                        </td></tr>\n",
       "\t<tr><td>Pinterest              </td><td>1061624                </td><td>4.5                    </td></tr>\n",
       "\t<tr><td>Bible                  </td><td> 985920                </td><td>4.5                    </td></tr>\n",
       "\t<tr><td>Candy Crush Saga       </td><td> 961794                </td><td>4.5                    </td></tr>\n",
       "\t<tr><td>Spotify Music          </td><td> 878563                </td><td>4.5                    </td></tr>\n",
       "\t<tr><td>Angry Birds            </td><td> 824451                </td><td>4.5                    </td></tr>\n",
       "</tbody>\n",
       "</table>\n"
      ],
      "text/latex": [
       "\\begin{tabular}{r|lll}\n",
       " track\\_name & rating\\_count\\_tot & user\\_rating\\\\\n",
       "\\hline\n",
       "\t Instagram               & 2161558                 & 4.5                    \\\\\n",
       "\t Clash of Clans          & 2130805                 & 4.5                    \\\\\n",
       "\t Temple Run              & 1724546                 & 4.5                    \\\\\n",
       "\t Pandora - Music \\& Radio & 1126879                   & 4.0                      \\\\\n",
       "\t Pinterest               & 1061624                 & 4.5                    \\\\\n",
       "\t Bible                   &  985920                 & 4.5                    \\\\\n",
       "\t Candy Crush Saga        &  961794                 & 4.5                    \\\\\n",
       "\t Spotify Music           &  878563                 & 4.5                    \\\\\n",
       "\t Angry Birds             &  824451                 & 4.5                    \\\\\n",
       "\\end{tabular}\n"
      ],
      "text/markdown": [
       "\n",
       "| track_name | rating_count_tot | user_rating |\n",
       "|---|---|---|\n",
       "| Instagram               | 2161558                 | 4.5                     |\n",
       "| Clash of Clans          | 2130805                 | 4.5                     |\n",
       "| Temple Run              | 1724546                 | 4.5                     |\n",
       "| Pandora - Music & Radio | 1126879                 | 4.0                     |\n",
       "| Pinterest               | 1061624                 | 4.5                     |\n",
       "| Bible                   |  985920                 | 4.5                     |\n",
       "| Candy Crush Saga        |  961794                 | 4.5                     |\n",
       "| Spotify Music           |  878563                 | 4.5                     |\n",
       "| Angry Birds             |  824451                 | 4.5                     |\n",
       "\n"
      ],
      "text/plain": [
       "  track_name              rating_count_tot user_rating\n",
       "1 Instagram               2161558          4.5        \n",
       "2 Clash of Clans          2130805          4.5        \n",
       "3 Temple Run              1724546          4.5        \n",
       "4 Pandora - Music & Radio 1126879          4.0        \n",
       "5 Pinterest               1061624          4.5        \n",
       "6 Bible                    985920          4.5        \n",
       "7 Candy Crush Saga         961794          4.5        \n",
       "8 Spotify Music            878563          4.5        \n",
       "9 Angry Birds              824451          4.5        "
      ]
     },
     "metadata": {},
     "output_type": "display_data"
    }
   ],
   "source": [
    "# Rank the apps in desc order by rating_count_tot:\n",
    "appData %>% filter(rating_count_tot > 800000 & user_rating >= 4.0) %>% select(track_name, rating_count_tot, user_rating) %>% arrange(desc(rating_count_tot))\n"
   ]
  },
  {
   "cell_type": "markdown",
   "metadata": {},
   "source": [
    "### Scatterplots for the paid app ratings by genre:"
   ]
  },
  {
   "cell_type": "code",
   "execution_count": 4,
   "metadata": {},
   "outputs": [
    {
     "data": {
      "image/png": "[encoded data removed]",
      "text/plain": [
       "plot without title"
      ]
     },
     "metadata": {},
     "output_type": "display_data"
    }
   ],
   "source": [
    "total_ratings_paid <- sum(appData$rating_count_tot) #total number of ratings for paid apps\n",
    "paid_apps <- appData %>%\n",
    "  filter(price > 0.00) %>%\n",
    "  mutate(normal_rating = rating_count_tot/total_ratings_paid)  #normalizing the ratings\n",
    "ggplot(paid_apps, aes(x = user_rating, y = normal_rating, color = prime_genre)) + facet_wrap(~prime_genre)+ geom_point()"
   ]
  },
  {
   "cell_type": "markdown",
   "metadata": {},
   "source": [
    "This graph of user ratings against normalized ratings separates the paid apps by their genre. The genre separation shows us that the paid apps with the highest ratings and most ratings are Games."
   ]
  },
  {
   "cell_type": "markdown",
   "metadata": {},
   "source": [
    "### DataFrame for the highest rated and most popular paid game apps:"
   ]
  },
  {
   "cell_type": "code",
   "execution_count": 7,
   "metadata": {},
   "outputs": [
    {
     "data": {
      "text/html": [
       "<table>\n",
       "<thead><tr><th scope=col>track_name</th><th scope=col>price</th><th scope=col>user_rating</th><th scope=col>rating_count_tot</th><th scope=col>prime_genre</th></tr></thead>\n",
       "<tbody>\n",
       "\t<tr><td>Plants vs. Zombies   </td><td>0.99                 </td><td>5                    </td><td>426463               </td><td>Games                </td></tr>\n",
       "\t<tr><td>Infinity Blade       </td><td>0.99                 </td><td>5                    </td><td>326482               </td><td>Games                </td></tr>\n",
       "\t<tr><td>Geometry Dash        </td><td>1.99                 </td><td>5                    </td><td>266440               </td><td>Games                </td></tr>\n",
       "\t<tr><td>Plants vs. Zombies HD</td><td>0.99                 </td><td>5                    </td><td>163598               </td><td>Games                </td></tr>\n",
       "\t<tr><td>The Room             </td><td>0.99                 </td><td>5                    </td><td>143908               </td><td>Games                </td></tr>\n",
       "</tbody>\n",
       "</table>\n"
      ],
      "text/latex": [
       "\\begin{tabular}{r|lllll}\n",
       " track\\_name & price & user\\_rating & rating\\_count\\_tot & prime\\_genre\\\\\n",
       "\\hline\n",
       "\t Plants vs. Zombies    & 0.99                  & 5                     & 426463                & Games                \\\\\n",
       "\t Infinity Blade        & 0.99                  & 5                     & 326482                & Games                \\\\\n",
       "\t Geometry Dash         & 1.99                  & 5                     & 266440                & Games                \\\\\n",
       "\t Plants vs. Zombies HD & 0.99                  & 5                     & 163598                & Games                \\\\\n",
       "\t The Room              & 0.99                  & 5                     & 143908                & Games                \\\\\n",
       "\\end{tabular}\n"
      ],
      "text/markdown": [
       "\n",
       "| track_name | price | user_rating | rating_count_tot | prime_genre |\n",
       "|---|---|---|---|---|\n",
       "| Plants vs. Zombies    | 0.99                  | 5                     | 426463                | Games                 |\n",
       "| Infinity Blade        | 0.99                  | 5                     | 326482                | Games                 |\n",
       "| Geometry Dash         | 1.99                  | 5                     | 266440                | Games                 |\n",
       "| Plants vs. Zombies HD | 0.99                  | 5                     | 163598                | Games                 |\n",
       "| The Room              | 0.99                  | 5                     | 143908                | Games                 |\n",
       "\n"
      ],
      "text/plain": [
       "  track_name            price user_rating rating_count_tot prime_genre\n",
       "1 Plants vs. Zombies    0.99  5           426463           Games      \n",
       "2 Infinity Blade        0.99  5           326482           Games      \n",
       "3 Geometry Dash         1.99  5           266440           Games      \n",
       "4 Plants vs. Zombies HD 0.99  5           163598           Games      \n",
       "5 The Room              0.99  5           143908           Games      "
      ]
     },
     "metadata": {},
     "output_type": "display_data"
    }
   ],
   "source": [
    "top_games <- paid_apps %>%\n",
    "  select(track_name, price, user_rating, rating_count_tot, prime_genre) %>%\n",
    "  filter(prime_genre == 'Games', user_rating == 5, rating_count_tot > 100000) %>%\n",
    "  arrange(desc(rating_count_tot))\n",
    "top_games"
   ]
  },
  {
   "cell_type": "markdown",
   "metadata": {},
   "source": [
    "- As we mentioned above, the highest rated paid apps were games. These are the 5 most highly rated games with Plants vs. Zombies being the top paid game."
   ]
  },
  {
   "cell_type": "markdown",
   "metadata": {},
   "source": [
    "### DataFrame for the most expensive apps:"
   ]
  },
  {
   "cell_type": "code",
   "execution_count": 36,
   "metadata": {},
   "outputs": [
    {
     "data": {
      "text/html": [
       "<table>\n",
       "<thead><tr><th scope=col>track_name</th><th scope=col>currency</th><th scope=col>price</th><th scope=col>user_rating</th><th scope=col>rating_count_tot</th><th scope=col>prime_genre</th></tr></thead>\n",
       "<tbody>\n",
       "\t<tr><td>LAMP Words For Life           </td><td>USD                           </td><td>299.99                        </td><td>4.0                           </td><td> 41                           </td><td>Education                     </td></tr>\n",
       "\t<tr><td>Proloquo2Go - Symbol-based AAC</td><td>USD                           </td><td>249.99                        </td><td>4.0                           </td><td>773                           </td><td>Education                     </td></tr>\n",
       "\t<tr><td>KNFB Reader                   </td><td>USD                           </td><td> 99.99                        </td><td>4.5                           </td><td> 71                           </td><td>Productivity                  </td></tr>\n",
       "\t<tr><td>NAVIGON Europe                </td><td>USD                           </td><td> 74.99                        </td><td>3.5                           </td><td>927                           </td><td>Navigation                    </td></tr>\n",
       "\t<tr><td>Articulation Station Pro      </td><td>USD                           </td><td> 59.99                        </td><td>4.5                           </td><td>294                           </td><td>Education                     </td></tr>\n",
       "\t<tr><td>Articulation Test Center Pro  </td><td>USD                           </td><td> 59.99                        </td><td>4.5                           </td><td> 29                           </td><td>Education                     </td></tr>\n",
       "</tbody>\n",
       "</table>\n"
      ],
      "text/latex": [
       "\\begin{tabular}{r|llllll}\n",
       " track\\_name & currency & price & user\\_rating & rating\\_count\\_tot & prime\\_genre\\\\\n",
       "\\hline\n",
       "\t LAMP Words For Life            & USD                            & 299.99                         & 4.0                            &  41                            & Education                     \\\\\n",
       "\t Proloquo2Go - Symbol-based AAC & USD                            & 249.99                         & 4.0                            & 773                            & Education                     \\\\\n",
       "\t KNFB Reader                    & USD                            &  99.99                         & 4.5                            &  71                            & Productivity                  \\\\\n",
       "\t NAVIGON Europe                 & USD                            &  74.99                         & 3.5                            & 927                            & Navigation                    \\\\\n",
       "\t Articulation Station Pro       & USD                            &  59.99                         & 4.5                            & 294                            & Education                     \\\\\n",
       "\t Articulation Test Center Pro   & USD                            &  59.99                         & 4.5                            &  29                            & Education                     \\\\\n",
       "\\end{tabular}\n"
      ],
      "text/markdown": [
       "\n",
       "| track_name | currency | price | user_rating | rating_count_tot | prime_genre |\n",
       "|---|---|---|---|---|---|\n",
       "| LAMP Words For Life            | USD                            | 299.99                         | 4.0                            |  41                            | Education                      |\n",
       "| Proloquo2Go - Symbol-based AAC | USD                            | 249.99                         | 4.0                            | 773                            | Education                      |\n",
       "| KNFB Reader                    | USD                            |  99.99                         | 4.5                            |  71                            | Productivity                   |\n",
       "| NAVIGON Europe                 | USD                            |  74.99                         | 3.5                            | 927                            | Navigation                     |\n",
       "| Articulation Station Pro       | USD                            |  59.99                         | 4.5                            | 294                            | Education                      |\n",
       "| Articulation Test Center Pro   | USD                            |  59.99                         | 4.5                            |  29                            | Education                      |\n",
       "\n"
      ],
      "text/plain": [
       "  track_name                     currency price  user_rating rating_count_tot\n",
       "1 LAMP Words For Life            USD      299.99 4.0          41             \n",
       "2 Proloquo2Go - Symbol-based AAC USD      249.99 4.0         773             \n",
       "3 KNFB Reader                    USD       99.99 4.5          71             \n",
       "4 NAVIGON Europe                 USD       74.99 3.5         927             \n",
       "5 Articulation Station Pro       USD       59.99 4.5         294             \n",
       "6 Articulation Test Center Pro   USD       59.99 4.5          29             \n",
       "  prime_genre \n",
       "1 Education   \n",
       "2 Education   \n",
       "3 Productivity\n",
       "4 Navigation  \n",
       "5 Education   \n",
       "6 Education   "
      ]
     },
     "metadata": {},
     "output_type": "display_data"
    }
   ],
   "source": [
    "expensivApps <- paid_apps %>%\n",
    "  select(track_name, currency, price,  user_rating, rating_count_tot, prime_genre) %>% filter(price > 50.00)  %>% \n",
    "  arrange(desc(price))\n",
    "head(expensivApps)"
   ]
  },
  {
   "cell_type": "code",
   "execution_count": 38,
   "metadata": {},
   "outputs": [
    {
     "data": {
      "text/html": [
       "129.275714285714"
      ],
      "text/latex": [
       "129.275714285714"
      ],
      "text/markdown": [
       "129.275714285714"
      ],
      "text/plain": [
       "[1] 129.2757"
      ]
     },
     "metadata": {},
     "output_type": "display_data"
    }
   ],
   "source": [
    "# Average price for the most expensive apps:\n",
    "mean(expensivApps$price)"
   ]
  },
  {
   "cell_type": "markdown",
   "metadata": {},
   "source": [
    "- Among the top 6 most expensive apps, 4 of them are education apps."
   ]
  },
  {
   "cell_type": "markdown",
   "metadata": {},
   "source": [
    "### Free app ratings by genre:"
   ]
  },
  {
   "cell_type": "code",
   "execution_count": 9,
   "metadata": {},
   "outputs": [
    {
     "data": {
      "image/png": "[encoded data removed]",
      "text/plain": [
       "plot without title"
      ]
     },
     "metadata": {},
     "output_type": "display_data"
    }
   ],
   "source": [
    "free_apps <- appData %>%\n",
    "  filter(price == 0.00) %>%\n",
    "  mutate(normal_rating = rating_count_tot/total_ratings_paid)  #normalizing the ratings\n",
    "ggplot(free_apps, aes(x = user_rating, y = normal_rating, color = prime_genre)) + facet_wrap(~prime_genre)+ geom_point()"
   ]
  },
  {
   "cell_type": "markdown",
   "metadata": {},
   "source": [
    "The most popular free apps are also games, followed by social networking apps. As paid games are more popular than free games, we will instead find the most popular social network apps"
   ]
  },
  {
   "cell_type": "markdown",
   "metadata": {},
   "source": [
    "### Most popular social-networking apps:"
   ]
  },
  {
   "cell_type": "code",
   "execution_count": 10,
   "metadata": {},
   "outputs": [
    {
     "data": {
      "text/html": [
       "<table>\n",
       "<thead><tr><th scope=col>track_name</th><th scope=col>user_rating</th><th scope=col>rating_count_tot</th><th scope=col>prime_genre</th></tr></thead>\n",
       "<tbody>\n",
       "\t<tr><td>Facebook                                  </td><td>3.5                                       </td><td>2974676                                   </td><td>Social Networking                         </td></tr>\n",
       "\t<tr><td>Pinterest                                 </td><td>4.5                                       </td><td>1061624                                   </td><td>Social Networking                         </td></tr>\n",
       "\t<tr><td>Skype for iPhone                          </td><td>3.5                                       </td><td> 373519                                   </td><td>Social Networking                         </td></tr>\n",
       "\t<tr><td>Messenger                                 </td><td>3.0                                       </td><td> 351466                                   </td><td>Social Networking                         </td></tr>\n",
       "\t<tr><td>Tumblr                                    </td><td>4.0                                       </td><td> 334293                                   </td><td>Social Networking                         </td></tr>\n",
       "\t<tr><td>WhatsApp Messenger                        </td><td>4.5                                       </td><td> 287589                                   </td><td>Social Networking                         </td></tr>\n",
       "\t<tr><td>Kik                                       </td><td>4.0                                       </td><td> 260965                                   </td><td>Social Networking                         </td></tr>\n",
       "\t<tr><td>ooVoo â€“ Free Video Call, Text and Voice </td><td>4.5                                       </td><td> 177501                                   </td><td>Social Networking                         </td></tr>\n",
       "\t<tr><td>TextNow - Unlimited Text + Calls          </td><td>3.5                                       </td><td> 164963                                   </td><td>Social Networking                         </td></tr>\n",
       "\t<tr><td><span style=white-space:pre-wrap>Viber Messenger â€“ Text &amp; Call           </span></td><td>4.5                                                                                   </td><td> 164249                                                                               </td><td>Social Networking                                                                     </td></tr>\n",
       "\t<tr><td>Followers - Social Analytics For Instagram</td><td>4.5                                       </td><td> 112778                                   </td><td>Social Networking                         </td></tr>\n",
       "</tbody>\n",
       "</table>\n"
      ],
      "text/latex": [
       "\\begin{tabular}{r|llll}\n",
       " track\\_name & user\\_rating & rating\\_count\\_tot & prime\\_genre\\\\\n",
       "\\hline\n",
       "\t Facebook                                   & 3.5                                        & 2974676                                    & Social Networking                         \\\\\n",
       "\t Pinterest                                  & 4.5                                        & 1061624                                    & Social Networking                         \\\\\n",
       "\t Skype for iPhone                           & 3.5                                        &  373519                                    & Social Networking                         \\\\\n",
       "\t Messenger                                  & 3.0                                        &  351466                                    & Social Networking                         \\\\\n",
       "\t Tumblr                                     & 4.0                                        &  334293                                    & Social Networking                         \\\\\n",
       "\t WhatsApp Messenger                         & 4.5                                        &  287589                                    & Social Networking                         \\\\\n",
       "\t Kik                                        & 4.0                                        &  260965                                    & Social Networking                         \\\\\n",
       "\t ooVoo â€“ Free Video Call, Text and Voice  & 4.5                                        &  177501                                    & Social Networking                         \\\\\n",
       "\t TextNow - Unlimited Text + Calls           & 3.5                                        &  164963                                    & Social Networking                         \\\\\n",
       "\t Viber Messenger â€“ Text \\& Call            & 4.5                                          &  164249                                      & Social Networking                           \\\\\n",
       "\t Followers - Social Analytics For Instagram & 4.5                                        &  112778                                    & Social Networking                         \\\\\n",
       "\\end{tabular}\n"
      ],
      "text/markdown": [
       "\n",
       "| track_name | user_rating | rating_count_tot | prime_genre |\n",
       "|---|---|---|---|\n",
       "| Facebook                                   | 3.5                                        | 2974676                                    | Social Networking                          |\n",
       "| Pinterest                                  | 4.5                                        | 1061624                                    | Social Networking                          |\n",
       "| Skype for iPhone                           | 3.5                                        |  373519                                    | Social Networking                          |\n",
       "| Messenger                                  | 3.0                                        |  351466                                    | Social Networking                          |\n",
       "| Tumblr                                     | 4.0                                        |  334293                                    | Social Networking                          |\n",
       "| WhatsApp Messenger                         | 4.5                                        |  287589                                    | Social Networking                          |\n",
       "| Kik                                        | 4.0                                        |  260965                                    | Social Networking                          |\n",
       "| ooVoo â€“ Free Video Call, Text and Voice  | 4.5                                        |  177501                                    | Social Networking                          |\n",
       "| TextNow - Unlimited Text + Calls           | 3.5                                        |  164963                                    | Social Networking                          |\n",
       "| Viber Messenger â€“ Text & Call            | 4.5                                        |  164249                                    | Social Networking                          |\n",
       "| Followers - Social Analytics For Instagram | 4.5                                        |  112778                                    | Social Networking                          |\n",
       "\n"
      ],
      "text/plain": [
       "   track_name                                 user_rating rating_count_tot\n",
       "1  Facebook                                   3.5         2974676         \n",
       "2  Pinterest                                  4.5         1061624         \n",
       "3  Skype for iPhone                           3.5          373519         \n",
       "4  Messenger                                  3.0          351466         \n",
       "5  Tumblr                                     4.0          334293         \n",
       "6  WhatsApp Messenger                         4.5          287589         \n",
       "7  Kik                                        4.0          260965         \n",
       "8  ooVoo â\\200“ Free Video Call, Text and Voice  4.5          177501         \n",
       "9  TextNow - Unlimited Text + Calls           3.5          164963         \n",
       "10 Viber Messenger â\\200“ Text & Call            4.5          164249         \n",
       "11 Followers - Social Analytics For Instagram 4.5          112778         \n",
       "   prime_genre      \n",
       "1  Social Networking\n",
       "2  Social Networking\n",
       "3  Social Networking\n",
       "4  Social Networking\n",
       "5  Social Networking\n",
       "6  Social Networking\n",
       "7  Social Networking\n",
       "8  Social Networking\n",
       "9  Social Networking\n",
       "10 Social Networking\n",
       "11 Social Networking"
      ]
     },
     "metadata": {},
     "output_type": "display_data"
    }
   ],
   "source": [
    "top_social <- free_apps %>%\n",
    "  select(track_name, user_rating, rating_count_tot, prime_genre) %>%\n",
    "  filter(prime_genre == 'Social Networking', rating_count_tot > 100000) %>%\n",
    "  arrange(desc(rating_count_tot))\n",
    "top_social"
   ]
  },
  {
   "cell_type": "markdown",
   "metadata": {},
   "source": [
    "Facebook is top most popular app, with 2974676 ratings, more than twice the ratings for Pinterest. Facebook and pinterest and the only social networking apps with more than a million ratings."
   ]
  },
  {
   "cell_type": "markdown",
   "metadata": {},
   "source": [
    "### Histogram of the user ratings with respect to the content ratings:"
   ]
  },
  {
   "cell_type": "code",
   "execution_count": 14,
   "metadata": {
    "scrolled": true
   },
   "outputs": [
    {
     "data": {
      "image/png": "[encoded data removed]",
      "text/plain": [
       "plot without title"
      ]
     },
     "metadata": {},
     "output_type": "display_data"
    }
   ],
   "source": [
    "options(repr.plot.width = 5, repr.plot.height = 5)\n",
    "h <- ggplot(appData, aes(x = user_rating, fill = cont_rating))\n",
    "h + geom_histogram(binwidth = 1)"
   ]
  },
  {
   "cell_type": "markdown",
   "metadata": {},
   "source": [
    "### Apps with the largest byte size:"
   ]
  },
  {
   "cell_type": "code",
   "execution_count": 31,
   "metadata": {
    "scrolled": true
   },
   "outputs": [
    {
     "data": {
      "text/html": [
       "<table>\n",
       "<thead><tr><th scope=col>track_name</th><th scope=col>size_bytes</th><th scope=col>user_rating</th><th scope=col>rating_count_tot</th><th scope=col>prime_genre</th></tr></thead>\n",
       "<tbody>\n",
       "\t<tr><td>ROME: Total War                </td><td>4025969664                     </td><td>4.5                            </td><td>  373                          </td><td>Games                          </td></tr>\n",
       "\t<tr><td>Jade Empireâ„¢: Special Edition</td><td>3896109056                     </td><td>4.5                            </td><td>  206                          </td><td>Games                          </td></tr>\n",
       "\t<tr><td>FINAL FANTASY â…¨              </td><td>3860406272                     </td><td>4.5                            </td><td> 1502                          </td><td>Games                          </td></tr>\n",
       "\t<tr><td>That Dragon, Cancer            </td><td>3856588800                     </td><td>4.5                            </td><td>  132                          </td><td>Games                          </td></tr>\n",
       "\t<tr><td>RÃ©publique                    </td><td>3646993408                     </td><td>4.5                            </td><td> 7078                          </td><td>Games                          </td></tr>\n",
       "\t<tr><td>Grim Fandango Remastered       </td><td>3521220608                     </td><td>4.0                            </td><td>  235                          </td><td>Games                          </td></tr>\n",
       "\t<tr><td>XCOMÂ®: Enemy Within           </td><td>3508826112                     </td><td>4.0                            </td><td> 2855                          </td><td>Games                          </td></tr>\n",
       "\t<tr><td>Football Manager Touch 2017    </td><td>3465451520                     </td><td>4.0                            </td><td>   61                          </td><td>Games                          </td></tr>\n",
       "\t<tr><td>Banner Saga 2                  </td><td>3321082880                     </td><td>4.0                            </td><td>  168                          </td><td>Games                          </td></tr>\n",
       "\t<tr><td>Infinity Blade III             </td><td>3013255168                     </td><td>4.0                            </td><td>37673                          </td><td>Games                          </td></tr>\n",
       "\t<tr><td>Eisenhorn: XENOS               </td><td>3008276480                     </td><td>3.5                            </td><td>  100                          </td><td>Games                          </td></tr>\n",
       "</tbody>\n",
       "</table>\n"
      ],
      "text/latex": [
       "\\begin{tabular}{r|lllll}\n",
       " track\\_name & size\\_bytes & user\\_rating & rating\\_count\\_tot & prime\\_genre\\\\\n",
       "\\hline\n",
       "\t ROME: Total War                 & 4025969664                      & 4.5                             &   373                           & Games                          \\\\\n",
       "\t Jade Empireâ„¢: Special Edition & 3896109056                      & 4.5                             &   206                           & Games                          \\\\\n",
       "\t FINAL FANTASY â…¨               & 3860406272                      & 4.5                             &  1502                           & Games                          \\\\\n",
       "\t That Dragon, Cancer             & 3856588800                      & 4.5                             &   132                           & Games                          \\\\\n",
       "\t RÃ©publique                     & 3646993408                      & 4.5                             &  7078                           & Games                          \\\\\n",
       "\t Grim Fandango Remastered        & 3521220608                      & 4.0                             &   235                           & Games                          \\\\\n",
       "\t XCOMÂ®: Enemy Within            & 3508826112                      & 4.0                             &  2855                           & Games                          \\\\\n",
       "\t Football Manager Touch 2017     & 3465451520                      & 4.0                             &    61                           & Games                          \\\\\n",
       "\t Banner Saga 2                   & 3321082880                      & 4.0                             &   168                           & Games                          \\\\\n",
       "\t Infinity Blade III              & 3013255168                      & 4.0                             & 37673                           & Games                          \\\\\n",
       "\t Eisenhorn: XENOS                & 3008276480                      & 3.5                             &   100                           & Games                          \\\\\n",
       "\\end{tabular}\n"
      ],
      "text/markdown": [
       "\n",
       "| track_name | size_bytes | user_rating | rating_count_tot | prime_genre |\n",
       "|---|---|---|---|---|\n",
       "| ROME: Total War                 | 4025969664                      | 4.5                             |   373                           | Games                           |\n",
       "| Jade Empireâ„¢: Special Edition | 3896109056                      | 4.5                             |   206                           | Games                           |\n",
       "| FINAL FANTASY â…¨               | 3860406272                      | 4.5                             |  1502                           | Games                           |\n",
       "| That Dragon, Cancer             | 3856588800                      | 4.5                             |   132                           | Games                           |\n",
       "| RÃ©publique                     | 3646993408                      | 4.5                             |  7078                           | Games                           |\n",
       "| Grim Fandango Remastered        | 3521220608                      | 4.0                             |   235                           | Games                           |\n",
       "| XCOMÂ®: Enemy Within            | 3508826112                      | 4.0                             |  2855                           | Games                           |\n",
       "| Football Manager Touch 2017     | 3465451520                      | 4.0                             |    61                           | Games                           |\n",
       "| Banner Saga 2                   | 3321082880                      | 4.0                             |   168                           | Games                           |\n",
       "| Infinity Blade III              | 3013255168                      | 4.0                             | 37673                           | Games                           |\n",
       "| Eisenhorn: XENOS                | 3008276480                      | 3.5                             |   100                           | Games                           |\n",
       "\n"
      ],
      "text/plain": [
       "   track_name                      size_bytes user_rating rating_count_tot\n",
       "1  ROME: Total War                 4025969664 4.5           373           \n",
       "2  Jade Empireâ„¢: Special Edition 3896109056 4.5           206           \n",
       "3  FINAL FANTASY â…¨               3860406272 4.5          1502           \n",
       "4  That Dragon, Cancer             3856588800 4.5           132           \n",
       "5  RÃ©publique                     3646993408 4.5          7078           \n",
       "6  Grim Fandango Remastered        3521220608 4.0           235           \n",
       "7  XCOMÂ®: Enemy Within            3508826112 4.0          2855           \n",
       "8  Football Manager Touch 2017     3465451520 4.0            61           \n",
       "9  Banner Saga 2                   3321082880 4.0           168           \n",
       "10 Infinity Blade III              3013255168 4.0         37673           \n",
       "11 Eisenhorn: XENOS                3008276480 3.5           100           \n",
       "   prime_genre\n",
       "1  Games      \n",
       "2  Games      \n",
       "3  Games      \n",
       "4  Games      \n",
       "5  Games      \n",
       "6  Games      \n",
       "7  Games      \n",
       "8  Games      \n",
       "9  Games      \n",
       "10 Games      \n",
       "11 Games      "
      ]
     },
     "metadata": {},
     "output_type": "display_data"
    }
   ],
   "source": [
    "bigApps <- appData  %>% select(track_name, size_bytes, user_rating, rating_count_tot, prime_genre) %>%\n",
    "filter(size_bytes > 3000000000, user_rating > 0)  %>% arrange(desc(size_bytes))\n",
    "\n",
    "bigApps"
   ]
  },
  {
   "cell_type": "code",
   "execution_count": 41,
   "metadata": {},
   "outputs": [
    {
     "data": {
      "text/plain": [
       "     Min.   1st Qu.    Median      Mean   3rd Qu.      Max. \n",
       "3.008e+09 3.393e+09 3.521e+09 3.557e+09 3.858e+09 4.026e+09 "
      ]
     },
     "metadata": {},
     "output_type": "display_data"
    }
   ],
   "source": [
    "# Summary statistics for the size bytes in the bigApps DataFrame:\n",
    "summary(bigApps$size_bytes)"
   ]
  },
  {
   "cell_type": "code",
   "execution_count": null,
   "metadata": {},
   "outputs": [],
   "source": []
  }
 ],
 "metadata": {
  "kernelspec": {
   "display_name": "R",
   "language": "R",
   "name": "ir"
  },
  "language_info": {
   "codemirror_mode": "r",
   "file_extension": ".r",
   "mimetype": "text/x-r-source",
   "name": "R",
   "pygments_lexer": "r",
   "version": "3.6.1"
  }
 },
 "nbformat": 4,
 "nbformat_minor": 2
}
